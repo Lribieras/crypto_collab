{
 "cells": [
  {
   "cell_type": "code",
   "execution_count": 3,
   "metadata": {},
   "outputs": [
    {
     "name": "stdout",
     "output_type": "stream",
     "text": [
      "https://api.bitfinex.com/v2/trades/tBTCUSD/hist\n",
      "https://api.bitfinex.com/v2/trades/tBTCUSD/hist\n",
      "https://api.bitfinex.com/v2/trades/tBTCUSD/hist\n",
      "https://api.bitfinex.com/v2/trades/tBTCUSD/hist\n",
      "https://api.bitfinex.com/v2/trades/tBTCUSD/hist\n",
      "https://api.bitfinex.com/v2/trades/tBTCUSD/hist\n",
      "https://api.bitfinex.com/v2/trades/tBTCUSD/hist\n",
      "https://api.bitfinex.com/v2/trades/tBTCUSD/hist\n",
      "https://api.bitfinex.com/v2/trades/tBTCUSD/hist\n",
      "https://api.bitfinex.com/v2/trades/tBTCUSD/hist\n",
      "Completed 0 requests successfully\n"
     ]
    },
    {
     "ename": "ValueError",
     "evalue": "No objects to concatenate",
     "output_type": "error",
     "traceback": [
      "\u001b[0;31m---------------------------------------------------------------------------\u001b[0m",
      "\u001b[0;31mValueError\u001b[0m                                Traceback (most recent call last)",
      "\u001b[0;32m<ipython-input-3-d541adad1c5c>\u001b[0m in \u001b[0;36m<module>\u001b[0;34m()\u001b[0m\n\u001b[1;32m     43\u001b[0m \u001b[0mprint\u001b[0m\u001b[0;34m(\u001b[0m\u001b[0;34mf'Completed {successful_requests} requests successfully'\u001b[0m\u001b[0;34m)\u001b[0m\u001b[0;34m\u001b[0m\u001b[0m\n\u001b[1;32m     44\u001b[0m \u001b[0;34m\u001b[0m\u001b[0m\n\u001b[0;32m---> 45\u001b[0;31m \u001b[0mall_trades\u001b[0m \u001b[0;34m=\u001b[0m \u001b[0mpd\u001b[0m\u001b[0;34m.\u001b[0m\u001b[0mconcat\u001b[0m\u001b[0;34m(\u001b[0m\u001b[0mtrades\u001b[0m\u001b[0;34m)\u001b[0m\u001b[0;34m\u001b[0m\u001b[0m\n\u001b[0m\u001b[1;32m     46\u001b[0m \u001b[0mall_trades\u001b[0m\u001b[0;34m.\u001b[0m\u001b[0mto_parquet\u001b[0m\u001b[0;34m(\u001b[0m\u001b[0;34mf'{SYMBOL}_trades.parquet'\u001b[0m\u001b[0;34m)\u001b[0m\u001b[0;34m\u001b[0m\u001b[0m\n",
      "\u001b[0;32m/anaconda3/lib/python3.6/site-packages/pandas/core/reshape/concat.py\u001b[0m in \u001b[0;36mconcat\u001b[0;34m(objs, axis, join, join_axes, ignore_index, keys, levels, names, verify_integrity, sort, copy)\u001b[0m\n\u001b[1;32m    223\u001b[0m                        \u001b[0mkeys\u001b[0m\u001b[0;34m=\u001b[0m\u001b[0mkeys\u001b[0m\u001b[0;34m,\u001b[0m \u001b[0mlevels\u001b[0m\u001b[0;34m=\u001b[0m\u001b[0mlevels\u001b[0m\u001b[0;34m,\u001b[0m \u001b[0mnames\u001b[0m\u001b[0;34m=\u001b[0m\u001b[0mnames\u001b[0m\u001b[0;34m,\u001b[0m\u001b[0;34m\u001b[0m\u001b[0m\n\u001b[1;32m    224\u001b[0m                        \u001b[0mverify_integrity\u001b[0m\u001b[0;34m=\u001b[0m\u001b[0mverify_integrity\u001b[0m\u001b[0;34m,\u001b[0m\u001b[0;34m\u001b[0m\u001b[0m\n\u001b[0;32m--> 225\u001b[0;31m                        copy=copy, sort=sort)\n\u001b[0m\u001b[1;32m    226\u001b[0m     \u001b[0;32mreturn\u001b[0m \u001b[0mop\u001b[0m\u001b[0;34m.\u001b[0m\u001b[0mget_result\u001b[0m\u001b[0;34m(\u001b[0m\u001b[0;34m)\u001b[0m\u001b[0;34m\u001b[0m\u001b[0m\n\u001b[1;32m    227\u001b[0m \u001b[0;34m\u001b[0m\u001b[0m\n",
      "\u001b[0;32m/anaconda3/lib/python3.6/site-packages/pandas/core/reshape/concat.py\u001b[0m in \u001b[0;36m__init__\u001b[0;34m(self, objs, axis, join, join_axes, keys, levels, names, ignore_index, verify_integrity, copy, sort)\u001b[0m\n\u001b[1;32m    257\u001b[0m \u001b[0;34m\u001b[0m\u001b[0m\n\u001b[1;32m    258\u001b[0m         \u001b[0;32mif\u001b[0m \u001b[0mlen\u001b[0m\u001b[0;34m(\u001b[0m\u001b[0mobjs\u001b[0m\u001b[0;34m)\u001b[0m \u001b[0;34m==\u001b[0m \u001b[0;36m0\u001b[0m\u001b[0;34m:\u001b[0m\u001b[0;34m\u001b[0m\u001b[0m\n\u001b[0;32m--> 259\u001b[0;31m             \u001b[0;32mraise\u001b[0m \u001b[0mValueError\u001b[0m\u001b[0;34m(\u001b[0m\u001b[0;34m'No objects to concatenate'\u001b[0m\u001b[0;34m)\u001b[0m\u001b[0;34m\u001b[0m\u001b[0m\n\u001b[0m\u001b[1;32m    260\u001b[0m \u001b[0;34m\u001b[0m\u001b[0m\n\u001b[1;32m    261\u001b[0m         \u001b[0;32mif\u001b[0m \u001b[0mkeys\u001b[0m \u001b[0;32mis\u001b[0m \u001b[0;32mNone\u001b[0m\u001b[0;34m:\u001b[0m\u001b[0;34m\u001b[0m\u001b[0m\n",
      "\u001b[0;31mValueError\u001b[0m: No objects to concatenate"
     ]
    }
   ],
   "source": [
    "from urllib.parse import urljoin\n",
    "import requests\n",
    "import time\n",
    "import pandas as pd\n",
    "\n",
    "# base URL for GET request to obtain trade data\n",
    "BASEURL = 'https://api.bitfinex.com/v2/trades/'\n",
    "# coin pair to obtain trades for\n",
    "SYMBOL = 'tBTCUSD'\n",
    "# number of trades to obtain per query\n",
    "LIMIT = 1000\n",
    "# number of total requests to send\n",
    "REQUESTS = 10\n",
    "# time between requests in seconds\n",
    "WAIT = 1\n",
    "\n",
    "# default value -> get the latest trades\n",
    "last_timestamp = 0\n",
    "successful_requests = 0\n",
    "trades = []\n",
    "for _ in range(REQUESTS):\n",
    "    url = urljoin(BASEURL, f'{SYMBOL}/hist')\n",
    "    query_time = time.time()\n",
    "    # get <LIMIT> trades since last timestamp\n",
    "    print(url)\n",
    "    response = requests.get(url,\n",
    "                            params={'limit': LIMIT,\n",
    "                                    'start': last_timestamp})\n",
    "    # if the request was successful, update data\n",
    "    if response.status_code == 200:\n",
    "        print('Request successful')\n",
    "        successful_requests += 1\n",
    "        trade_data = pd.DataFrame(response.json(),\n",
    "                                  columns=['ID', 'MTS', 'AMOUNT', 'PRICE'])\n",
    "        print(f'{len(trade_data)} trades since last timestamp')\n",
    "        last_timestamp = max(trade_data['MTS'])\n",
    "        trades.append(trade_data)\n",
    "        # make sure we adhere to <WAIT> period\n",
    "        timedelta = time.time() - query_time\n",
    "        if timedelta < WAIT:\n",
    "            time.sleep(WAIT - timedelta)\n",
    "\n",
    "print(f'Completed {successful_requests} requests successfully')\n",
    "\n",
    "all_trades = pd.concat(trades)\n",
    "all_trades.to_parquet(f'{SYMBOL}_trades.parquet')"
   ]
  },
  {
   "cell_type": "code",
   "execution_count": null,
   "metadata": {},
   "outputs": [],
   "source": []
  }
 ],
 "metadata": {
  "kernelspec": {
   "display_name": "Python 3",
   "language": "python",
   "name": "python3"
  },
  "language_info": {
   "codemirror_mode": {
    "name": "ipython",
    "version": 3
   },
   "file_extension": ".py",
   "mimetype": "text/x-python",
   "name": "python",
   "nbconvert_exporter": "python",
   "pygments_lexer": "ipython3",
   "version": "3.6.5"
  }
 },
 "nbformat": 4,
 "nbformat_minor": 2
}
